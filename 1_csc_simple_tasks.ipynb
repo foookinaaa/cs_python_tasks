{
 "cells": [
  {
   "cell_type": "markdown",
   "metadata": {
    "id": "05gVIRqOzXwm"
   },
   "source": [
    "# CS 1. Python simple tasks"
   ]
  },
  {
   "cell_type": "markdown",
   "metadata": {
    "id": "T_27X-Daz6x5"
   },
   "source": [
    "### B. Лес\n",
    "Замените в тексте знаки дюйма на парные кавычки-елочки. Кавычки в тексте всегда парные, вложенных кавычек нет.\n",
    "\n",
    "Формат ввода\n",
    "\n",
    "Алексей Агранович — режиссер, актер театра и кино.  \n",
    "Он, в частности, сыграл главную роль в фильме \"Юморист\" (2019 год)  \n",
    "режиссера Михаила Идова. В \"Гоголь-центре\" он  \n",
    "сыграл две роли в \"Маленьких трагедиях\", за которые  \n",
    "был номинирован на театральную премию \"Золотая маска\" за лучшую мужскую роль.\n",
    "\n",
    "Формат вывода\n",
    "\n",
    "Алексей Агранович — режиссер, актер театра и кино.  \n",
    "Он, в частности, сыграл главную роль в фильме «Юморист» (2019 год)  \n",
    "режиссера Михаила Идова. В «Гоголь-центре» он  \n",
    "сыграл две роли в «Маленьких трагедиях», за которые  \n",
    "был номинирован на театральную премию «Золотая маска» за лучшую мужскую роль."
   ]
  },
  {
   "cell_type": "code",
   "execution_count": 1,
   "metadata": {
    "id": "Jv7pHymc0Jdl"
   },
   "outputs": [],
   "source": [
    "import sys\n",
    "import re\n",
    "for line in sys.stdin:\n",
    "    line = line.rstrip()\n",
    "    for i in line:\n",
    "        line = re.sub('\"', '«', line, count=1) #первое вхождение кавычек в строке\n",
    "        line = re.sub('\"', '»', line, count=1) #второе вхождение кавычек в строке\n",
    "    print(line)"
   ]
  },
  {
   "cell_type": "markdown",
   "metadata": {
    "id": "6-SQYV_Q0UH8"
   },
   "source": [
    "### C. Скока-скока?\n",
    "Для целого числа, если в нем больше трех разрядов, используйте пробел, чтобы сгруппировать разряды по 3.\n",
    "\n",
    "Формат ввода\n",
    "\n",
    "32746328477237481212\n",
    "\n",
    "Формат вывода\n",
    "\n",
    "32 746 328 477 237 481 212"
   ]
  },
  {
   "cell_type": "code",
   "execution_count": 2,
   "metadata": {
    "id": "b4lCno5T0mf8"
   },
   "outputs": [
    {
     "name": "stdout",
     "output_type": "stream",
     "text": [
      "32746328477237481212\n",
      "32 746 328 477 237 481 212 "
     ]
    }
   ],
   "source": [
    "n = int(input())\n",
    "out = []\n",
    "while n > 0:\n",
    "    r = n % 1000\n",
    "    n = n // 1000\n",
    "    out.append(r)\n",
    "for i in out[::-1]:\n",
    "    print(i, end=' ')"
   ]
  },
  {
   "cell_type": "markdown",
   "metadata": {
    "id": "bFok-dcf0qiF"
   },
   "source": [
    "### D. Повторите!\n",
    "Повторите строку столько раз, сколько в ней символов.\n",
    "\n",
    "Формат ввода\n",
    "\n",
    "Привет, мир!\n",
    "\n",
    "Формат вывода\n",
    "\n",
    "Привет, мир!  \n",
    "Привет, мир!  \n",
    "Привет, мир!  \n",
    "Привет, мир!  \n",
    "Привет, мир!  \n",
    "Привет, мир!  \n",
    "Привет, мир!  \n",
    "Привет, мир!  \n",
    "Привет, мир!  \n",
    "Привет, мир!  \n",
    "Привет, мир!  \n",
    "Привет, мир!"
   ]
  },
  {
   "cell_type": "code",
   "execution_count": 3,
   "metadata": {
    "id": "_bhRD6dl1YyK"
   },
   "outputs": [
    {
     "name": "stdout",
     "output_type": "stream",
     "text": [
      "Привет, мир!\n",
      "Привет, мир!\n",
      "Привет, мир!\n",
      "Привет, мир!\n",
      "Привет, мир!\n",
      "Привет, мир!\n",
      "Привет, мир!\n",
      "Привет, мир!\n",
      "Привет, мир!\n",
      "Привет, мир!\n",
      "Привет, мир!\n",
      "Привет, мир!\n",
      "Привет, мир!\n"
     ]
    }
   ],
   "source": [
    "s = str(input())\n",
    "for i in range(len(s)):\n",
    "    print(s)"
   ]
  },
  {
   "cell_type": "markdown",
   "metadata": {
    "id": "Ef51vj4l1ddS"
   },
   "source": [
    "### E. Заголовок\n",
    "Напишите программу, которая преобразует строку в заголовок. Части речи не учитывать: предлоги тоже преобразуются по этому правилу.\n",
    "\n",
    "Формат ввода\n",
    "\n",
    "Популярная блогерша и мать троих детей раскрыла секрет воспитания\n",
    "\n",
    "Формат вывода\n",
    "\n",
    "Популярная Блогерша И Мать Троих Детей Раскрыла Секрет Воспитания"
   ]
  },
  {
   "cell_type": "code",
   "execution_count": 4,
   "metadata": {
    "id": "IrdHFno-2K1m"
   },
   "outputs": [
    {
     "name": "stdout",
     "output_type": "stream",
     "text": [
      "Популярная блогерша и мать троих детей раскрыла секрет воспитания\n",
      "Популярная Блогерша И Мать Троих Детей Раскрыла Секрет Воспитания "
     ]
    }
   ],
   "source": [
    "s = str(input())\n",
    "word = ''\n",
    "words = []\n",
    "for i in s: # разделим предложения на слова\n",
    "    if i == ' ':\n",
    "        words.append(word)\n",
    "        word = ''\n",
    "        continue # пропустим пробелы\n",
    "    word += i\n",
    "words.append(word)\n",
    "for word in words:\n",
    "    print(word[0].upper() + word[1:], end=' ')"
   ]
  },
  {
   "cell_type": "markdown",
   "metadata": {
    "id": "Xrz2rIVR2WPu"
   },
   "source": [
    "### F. Нумерация\n",
    "На вход подается текст, состоящий из строк (символ-разделитель: \\n). Пронумеруйте строки, отдав под номер 4 символа. В качестве заполнителя используйте пробелы.\n",
    "\n",
    "Формат ввода\n",
    "\n",
    "И скучно и грустно, и некому руку подать  \n",
    "В минуту душевной невзгоды…  \n",
    "Желанья!.. что пользы напрасно и вечно желать?..  \n",
    "А годы проходят — все лучшие годы!  \n",
    " \n",
    "Формат вывода\n",
    "\n",
    "   1 И скучно и грустно, и некому руку подать  \n",
    "   2 В минуту душевной невзгоды…  \n",
    "   3 Желанья!.. что пользы напрасно и вечно желать?..  \n",
    "   4 А годы проходят — все лучшие годы!  \n",
    "   5  \n",
    "   6 Любить… но кого же?.. на время — не стоит труда,  \n"
   ]
  },
  {
   "cell_type": "code",
   "execution_count": 5,
   "metadata": {
    "id": "BSo1dT_P2jYD"
   },
   "outputs": [],
   "source": [
    "import sys\n",
    "i = 1\n",
    "for line in sys.stdin:\n",
    "    line = line.rstrip()\n",
    "    print(\"{: >4}\".format(i), line)\n",
    "    i += 1"
   ]
  },
  {
   "cell_type": "markdown",
   "metadata": {
    "id": "EcyX6dfA2ov7"
   },
   "source": [
    "### G. Итого\n",
    "Дан чек, в котором перечислены купленные товары. В каждой второй строке — целочисленная стоимость товара. Вычислите полную сумму покупки.\n",
    "\n",
    "Формат ввода\n",
    "\n",
    "Молоко МФ ТАЛИЦКИЕ паст Дерев 3,5-4%1000  \n",
    "82  \n",
    "Пакет ЛЕНТА майка 12кг  \n",
    "6  \n",
    "Хлеб СМАК Таежный ржаной 350 г  \n",
    "27  \n",
    "Сельдь МЕРИДИАН Дингли ф/к в бел вине115  \n",
    "99  \n",
    "Краб пал МИРАМАР Кл им кр мяс охл 200гр  \n",
    "72  \n",
    "Батон СМАК Подмосковный в/с нар 380г  \n",
    "33  \n",
    "Макароны BARILLA Spaghetti n.5 450г  \n",
    "86  \n",
    "Макароны BORGES Spagetti 500г  \n",
    "159  \n",
    "Салат Оливье классический лоток вес  \n",
    "81  \n",
    "Салат Свекла с чесноком лоток вес  \n",
    "85  \n",
    "Колбаса МЯСНАЯ КЛАССИКА Серв Свердл 400  \n",
    "211\n",
    "\n",
    "Формат вывода\n",
    "\n",
    "941"
   ]
  },
  {
   "cell_type": "code",
   "execution_count": 6,
   "metadata": {
    "id": "vz28t8yU23rw"
   },
   "outputs": [
    {
     "name": "stdout",
     "output_type": "stream",
     "text": [
      "0\n"
     ]
    }
   ],
   "source": [
    "import sys\n",
    "summ = 0\n",
    "i = 1\n",
    "for line in sys.stdin:\n",
    "    line = line.rstrip()\n",
    "    if i % 2 == 0:\n",
    "        line = int(line)\n",
    "        summ += line\n",
    "    i += 1\n",
    "print(summ)"
   ]
  },
  {
   "cell_type": "markdown",
   "metadata": {
    "id": "b_r_pweg2xIr"
   },
   "source": [
    "### H. Быстрый дозвон\n",
    "Для того, чтобы сделать на сайте «звонибельную» ссылку, надо указать параметр href c префиксом tel: Например,  href=\"tel:+79012342452\">+79012342452</a\n",
    "\n",
    "Напишите программу, которая «оборачивает» телефон в такие теги.\n",
    "\n",
    "Формат ввода\n",
    "\n",
    "+79012342452\n",
    "\n",
    "Формат вывода\n",
    "\n",
    "a href=\"tel:+79012342452\">+79012342452</a\n"
   ]
  },
  {
   "cell_type": "code",
   "execution_count": 7,
   "metadata": {
    "id": "0Jf09uVK3Lps"
   },
   "outputs": [
    {
     "name": "stdout",
     "output_type": "stream",
     "text": [
      "+79012342452\n",
      "<a href=\"tel:+79012342452\">+79012342452</a>\n"
     ]
    }
   ],
   "source": [
    "s = str(input())\n",
    "print('<a href=\"tel:{}\">{}</a>'.format(s, s))"
   ]
  },
  {
   "cell_type": "markdown",
   "metadata": {
    "id": "Hsn946UY3O-0"
   },
   "source": [
    "### I. ДНК-статистика\n",
    "Дан секвенированный геном какого-либо вируса. Нужно определить количество нуклеотидов a c g t в геноме в таком порядке.\n",
    "\n",
    "Формат ввода\n",
    "\n",
    "        1 accggatggc cgcgattttt tttcccgtac acgctccaaa gtaaaagtaa agtaactagt  \n",
    "       61 ggtccccgcc cactaacaaa tgtcagccaa tcagaatgaa gcctgaaagc tttcttatct  \n",
    "      121 agattttgtc tttatatact tgctcgccaa gtagttttat tgcaacatgt gggacacatt  \n",
    "      181 attgaacgag tttccagact ctgttcatgg ttttcgttgt atgctgggta taaaatatct  \n",
    "      241 gcagctttta gaagaggagt acgagcccaa tactttggga cacgatttaa ttagagatct  \n",
    "      301 catatctgtc attagggcta agaattatgt cgaagcgacc cggcgatata ataattttct  \n",
    "      361 gaggaaaatc ctagtgtttt ccgacgagtg aaggcaaaga ttgcagagga agaattcctc  \n",
    "      421 ctgaaattca aatttcaaat ttgaaatctt ggcaattgcg cctcaaacag ttgctgtcaa  \n",
    "      481 gggacccaga tgaccgcact atcttttggg tgtatggacc caccggagga gagggcaaat  \n",
    "      541 cgacatttgc ccgtgacctg tacagaagtg ggtcctggtt ctatacacgt ggaggatctg  \n",
    "      601 ctgataatgt ggcttaccag tatataggat gtttaggaaa taatatagtc tttgatatcc  \n",
    "      661 ctagggataa aaaagattat ttacaatata gtttagtaga aatgtttaag gatagattag  \n",
    "      721 tagttagtaa taagtatgaa ccgataatgg ctcctatgct taattgtatt catgtagtag  \n",
    "      781 ttatgtctaa ttttcttcca gatatggaga agattagtag tgatagggtc cgtgtaattc  \n",
    "      841 cttgtattcc ttgtggtgtt tgtcttaagc atcatgatca taatataaaa tgtgatgagt  \n",
    "      901 atttagaata aataaaatga ctgttgaatt tgatattatt taagaaaaca aggccccgca  \n",
    "      961 ggggcaatat aaaaaaatat tttgcttctt gaaaacaaga aggaatgata tgaaagaaat  \n",
    "     1021 ataagtgggt ctcgaattgc ataagcacat ggagatgagg ttcgccattc tcgtggagtt  \n",
    "     1081 ctctgcaaat tttaatatat tttttattgg ttggggtatt taatttgagt atttgttcga  \n",
    "     1141 gtgcctcttc tttggataga gagcattttg ggaaagtgag gaaataattt tttgcattta  \n",
    "     1201 taagaaattt tcgttgggta ggcatgttgg tcagaggacc cgattgactc tctattcaat  \n",
    "     1261 ctttcatatg tatcgggtcc ctgggtcctt atttatatgt gaggacctta atggcattat  \n",
    "     1321 tgtaattagg taaaagtaat acgctttaat tcaaattggt aaagcggcca tccgtataat  \n",
    "     1381 att\n",
    "\n",
    "Формат вывода\n",
    "\n",
    "415 212 303 453"
   ]
  },
  {
   "cell_type": "code",
   "execution_count": 8,
   "metadata": {
    "id": "8ILZj4iG3Yu-"
   },
   "outputs": [
    {
     "name": "stdout",
     "output_type": "stream",
     "text": [
      "0 0 0 0\n"
     ]
    }
   ],
   "source": [
    "import sys\n",
    "import re\n",
    "a = 0\n",
    "c = 0\n",
    "g = 0\n",
    "t = 0\n",
    "for line in sys.stdin:\n",
    "    line = line.rstrip()\n",
    "    a += len(re.findall('a', line))\n",
    "    c += len(re.findall('c', line))\n",
    "    g += len(re.findall('g', line))\n",
    "    t += len(re.findall('t', line))\n",
    "print(a, c, g, t)"
   ]
  },
  {
   "cell_type": "markdown",
   "metadata": {
    "id": "jvtrJfxf3clT"
   },
   "source": [
    "### J. Меню\n",
    "Дан текст с меню, котором указана цена в долларах (всегда целое число). Перевести его по курсу dol1 = 75р в рубли. Воспользуйтесь предыдущим кодом: сумму в рублях делите по группам из 3 разрядов.\n",
    "\n",
    "В выводе буква р - это кириллица.\n",
    "\n",
    "Формат ввода\n",
    "\n",
    "Bigoli con ragoutd’anatra, fungo shiitake e salvia frittaBigoli  \n",
    "with duck ragout, shiitake mushrooms and fried sage dol18  \n",
    " \n",
    "Spaghetticon pesto di topinambur e pistacchio, limone esale al timo  \n",
    "Spaghetti with topiambur and pistachios pesto sauce dol17\n",
    "\n",
    "Формат вывода\n",
    "\n",
    "Bigoli con ragoutd’anatra, fungo shiitake e salvia frittaBigoli  \n",
    "with duck ragout, shiitake mushrooms and fried sage 1 350р  \n",
    " \n",
    "Spaghetticon pesto di topinambur e pistacchio, limone esale al timo  \n",
    "Spaghetti with topiambur and pistachios pesto sauce 1 275р"
   ]
  },
  {
   "cell_type": "code",
   "execution_count": 9,
   "metadata": {
    "id": "RYDhBv913wIe"
   },
   "outputs": [],
   "source": [
    "import sys\n",
    "import re\n",
    "for line in sys.stdin:\n",
    "    line = line.rstrip()\n",
    "    if re.search(r'\\$', line) is not None: #если в строке есть доллар\n",
    "        ending = re.split(r'\\d+', re.split(r'\\$', line)[1])[1] #окончание строки после цифр\n",
    "        n = int(re.findall(r'\\d+', re.split(r'\\$', line)[1])[0]) * 75 #цифры после доллара\n",
    "        out = []\n",
    "        rub = ''\n",
    "        while n > 0:\n",
    "            r = n % 1000\n",
    "            n = n // 1000\n",
    "            out.append(r)\n",
    "        for i in out[::-1]:\n",
    "            i = str(i)\n",
    "            rub += i\n",
    "            rub += ' '\n",
    "        rub = rub[:len(rub)-1] + 'р' #рубли форматированные\n",
    "        print('{}{}{}'.format(re.split(r'\\$', line)[0], rub, ending))\n",
    "    else:\n",
    "        print(line)"
   ]
  },
  {
   "cell_type": "markdown",
   "metadata": {
    "id": "2fzX9uoB4J5h"
   },
   "source": [
    "### K. Штрих-код\n",
    "Не любая последовательность цифр может быть штрих-кодом. сумма всех цифр на нечетных местах и утроенная сумма цифр на четных местах делилась на 10.\n",
    "Например, Код у него — 4604075024433. На нечетных местах: 4, 0, 0, 5, 2, 4, 3. На четных: 6, 4, 7, 0, 4, 3. Если мы сложим первую сумму с утроенной второй получится 90. Значит, это корректный штрих-код.\n",
    "\n",
    "Напишите программу, которая для заданного штрих-кода говорит, правильный он (yes) или нет (no).\n",
    "\n",
    "Формат ввода\n",
    "\n",
    "4604075024433\n",
    "\n",
    "Формат вывода\n",
    "\n",
    "yes"
   ]
  },
  {
   "cell_type": "code",
   "execution_count": 10,
   "metadata": {
    "id": "86nQXzxW4dCk"
   },
   "outputs": [
    {
     "name": "stdout",
     "output_type": "stream",
     "text": [
      "4604075024433\n",
      "yes\n"
     ]
    }
   ],
   "source": [
    "n = str(input())\n",
    "nch = 0\n",
    "ch = 0\n",
    "for i in range(0, len(n), 2):\n",
    "    nch += int(n[i])\n",
    "for i in range(1, len(n), 2):\n",
    "    ch += int(n[i])\n",
    "control = nch + ch*3\n",
    "if control % 10 == 0:\n",
    "    print('yes')\n",
    "else:\n",
    "    print('no')"
   ]
  },
  {
   "cell_type": "markdown",
   "metadata": {
    "id": "cxd_4PHb4ciS"
   },
   "source": [
    "### L. Делители числа\n",
    "Напишите в порядке возрастания все делители числа, кроме 1 и его самого. Возможно, у вас будет ошибка лимита по времени, попытайтесь немного оптимизировать программу.\n",
    "\n",
    "Формат ввода\n",
    "\n",
    "500\n",
    "\n",
    "Формат вывода\n",
    "\n",
    "2 4 5 10 20 25 50 100 125 250"
   ]
  },
  {
   "cell_type": "code",
   "execution_count": 11,
   "metadata": {
    "id": "2sqtmNi74n67"
   },
   "outputs": [
    {
     "name": "stdout",
     "output_type": "stream",
     "text": [
      "500\n",
      "2 4 5 10 20 25 50 100 125 250 "
     ]
    }
   ],
   "source": [
    "from math import ceil, sqrt\n",
    "n = int(input())\n",
    "n_sqr = ceil(sqrt(n)) #корень в большую сторону\n",
    "delitel_1 = []\n",
    "delitel_2 = []\n",
    "for i in range(2, n_sqr+1): #все делители до корня\n",
    "    if n % i == 0:\n",
    "        delitel_1.append(i)\n",
    "for i in delitel_1: #проверка на уникальные значения\n",
    "    if n // i not in delitel_1:\n",
    "        delitel_2.append(n // i) #добавили делители от первых чисел\n",
    "itog = delitel_1 + delitel_2[::-1]\n",
    "for i in itog:\n",
    "    print(i, end=\" \")"
   ]
  },
  {
   "cell_type": "markdown",
   "metadata": {
    "id": "oO0lw3Kx435-"
   },
   "source": [
    "### M. Сильный ИИ близко...\n",
    "Не все движки блогов, форумов, новостных сайтов умеют правильно склонять существительные с числительными. Например «1 комментарий», «2 комментария», «125 комментариев»\n",
    "\n",
    "Напишите программу, которая умеет склонять с любыми числительными слово «комментарий».\n",
    "\n",
    "Формат ввода\n",
    "7\n",
    "\n",
    "Формат вывода\n",
    "\n",
    "комментариев"
   ]
  },
  {
   "cell_type": "code",
   "execution_count": 12,
   "metadata": {
    "id": "IFOoyHBV5DDF"
   },
   "outputs": [
    {
     "name": "stdout",
     "output_type": "stream",
     "text": [
      "7\n",
      "комментариев\n"
     ]
    }
   ],
   "source": [
    "n = int(input())\n",
    "if n != 11 and n % 10 == 1:\n",
    "    print('комментарий')\n",
    "elif (n != 12 and n != 13 and n != 14 and\n",
    "        (n % 10 == 2 or n % 10 == 3 or n % 10 == 4)):\n",
    "    print('комментария')\n",
    "else:\n",
    "    print('комментариев')"
   ]
  },
  {
   "cell_type": "markdown",
   "metadata": {
    "id": "1e-TWJlD5GOe"
   },
   "source": [
    "### N. Спираль\n",
    "Закрутите спираль из чисел заданного размера. Под каждое число отводится на 1 позицию больше, чем под максимальное число в спирали. Закручивание идет по часовой стрелке, начиная с поворота направо. В спирали участвуют числа от 1 до n ** 2.\n",
    "Целое n на входе принадлежит отрезку [2, 20].\n",
    "\n",
    "Формат ввода\n",
    "\n",
    "15\n",
    "\n",
    "Формат вывода\n",
    "\n",
    "211 212 213 214 215 216 217 218 219 220 221 222 223 224 225  \n",
    "210 157 158 159 160 161 162 163 164 165 166 167 168 169 170  \n",
    "209 156 111 112 113 114 115 116 117 118 119 120 121 122 171  \n",
    "208 155 110  73  74  75  76  77  78  79  80  81  82 123 172  \n",
    "207 154 109  72  43  44  45  46  47  48  49  50  83 124 173  \n",
    "206 153 108  71  42  21  22  23  24  25  26  51  84 125 174  \n",
    "205 152 107  70  41  20   7   8   9  10  27  52  85 126 175  \n",
    "204 151 106  69  40  19   6   1   2  11  28  53  86 127 176  \n",
    "203 150 105  68  39  18   5   4   3  12  29  54  87 128 177  \n",
    "202 149 104  67  38  17  16  15  14  13  30  55  88 129 178  \n",
    "201 148 103  66  37  36  35  34  33  32  31  56  89 130 179  \n",
    "200 147 102  65  64  63  62  61  60  59  58  57  90 131 180  \n",
    "199 146 101 100  99  98  97  96  95  94  93  92  91 132 181  \n",
    "198 145 144 143 142 141 140 139 138 137 136 135 134 133 182  \n",
    "197 196 195 194 193 192 191 190 189 188 187 186 185 184 183"
   ]
  },
  {
   "cell_type": "code",
   "execution_count": 13,
   "metadata": {
    "id": "e86j-rQV5O8P"
   },
   "outputs": [
    {
     "name": "stdout",
     "output_type": "stream",
     "text": [
      "15\n",
      "211 212 213 214 215 216 217 218 219 220 221 222 223 224 225 \n",
      "210 157 158 159 160 161 162 163 164 165 166 167 168 169 170 \n",
      "209 156 111 112 113 114 115 116 117 118 119 120 121 122 171 \n",
      "208 155 110  73  74  75  76  77  78  79  80  81  82 123 172 \n",
      "207 154 109  72  43  44  45  46  47  48  49  50  83 124 173 \n",
      "206 153 108  71  42  21  22  23  24  25  26  51  84 125 174 \n",
      "205 152 107  70  41  20   7   8   9  10  27  52  85 126 175 \n",
      "204 151 106  69  40  19   6   1   2  11  28  53  86 127 176 \n",
      "203 150 105  68  39  18   5   4   3  12  29  54  87 128 177 \n",
      "202 149 104  67  38  17  16  15  14  13  30  55  88 129 178 \n",
      "201 148 103  66  37  36  35  34  33  32  31  56  89 130 179 \n",
      "200 147 102  65  64  63  62  61  60  59  58  57  90 131 180 \n",
      "199 146 101 100  99  98  97  96  95  94  93  92  91 132 181 \n",
      "198 145 144 143 142 141 140 139 138 137 136 135 134 133 182 \n",
      "197 196 195 194 193 192 191 190 189 188 187 186 185 184 183 \n"
     ]
    }
   ],
   "source": [
    "#n - размерность матрицы n x n\n",
    "#mat - результирующая матрица\n",
    "#st - текущее значение-счетчик для записи в матрицу\n",
    "#m - коеффициент, используемый для заполнения верхней\n",
    "#матрицы последующих витков, т.к. одномерные матрицы\n",
    "#следующих витков имеют меньше значений\n",
    "n = int(input())\n",
    "mat = [[0]*n for i in range(n)]\n",
    "st, m = n*n, 1\n",
    "# Заранее присваиваю значение центральному элементу\n",
    "# матрицы\n",
    "mat[n//2][n//2] = 1\n",
    "for v in range(n//2):\n",
    "    #Заполнение верхней горизонтальной матрицы\n",
    "    for i in range(v, n-v):\n",
    "        mat[v][n-i-1] = st\n",
    "        st -= 1\n",
    "    #Заполнение левой вертикальной матрицы\n",
    "    for i in range(v+1, n-(v+1)):\n",
    "        mat[i][v] = st\n",
    "        st -= 1\n",
    "    #Заполнение нижней горизонтальной матрицы\n",
    "    for i in range(v+1, n-v+1):\n",
    "        mat[n-v-1][i-1] = st\n",
    "        st -= 1\n",
    "    #Заполнение правой вертикальной матрицы  \n",
    "    for i in range(v+1, n-m):\n",
    "        mat[n-i-1][n-v-1] = st\n",
    "        st -= 1\n",
    "    m += 1\n",
    "#вывод (форматирование по длине максимального элемента)\n",
    "format_num = len(str(mat[0][n-1]))\n",
    "if n % 2 == 0: #если n четное, то надо повернуть, чтобы было 1 2 на одной строке\n",
    "    for i in range(2):\n",
    "        mat = tuple(zip(*mat[::-1]))\n",
    "for i in mat:\n",
    "    for j in i:\n",
    "        print('{: >{}}'.format(j, format_num), end=\" \")\n",
    "    print()"
   ]
  }
 ],
 "metadata": {
  "colab": {
   "collapsed_sections": [],
   "name": "Копия блокнота \"Untitled10.ipynb\"",
   "provenance": []
  },
  "kernelspec": {
   "display_name": "Python 3",
   "language": "python",
   "name": "python3"
  },
  "language_info": {
   "codemirror_mode": {
    "name": "ipython",
    "version": 3
   },
   "file_extension": ".py",
   "mimetype": "text/x-python",
   "name": "python",
   "nbconvert_exporter": "python",
   "pygments_lexer": "ipython3",
   "version": "3.8.3"
  }
 },
 "nbformat": 4,
 "nbformat_minor": 1
}
